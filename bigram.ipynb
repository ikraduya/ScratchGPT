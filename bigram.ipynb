{
 "cells": [
  {
   "cell_type": "markdown",
   "metadata": {},
   "source": [
    "# Bigram Language Model\n",
    "The simplest baseline model for text generation."
   ]
  },
  {
   "cell_type": "code",
   "execution_count": 6,
   "metadata": {},
   "outputs": [],
   "source": [
    "import torch\n",
    "device = 'cuda' if torch.cuda.is_available() else 'cpu'"
   ]
  },
  {
   "cell_type": "markdown",
   "metadata": {},
   "source": [
    "## 1. Dataset"
   ]
  },
  {
   "cell_type": "code",
   "execution_count": 7,
   "metadata": {},
   "outputs": [],
   "source": [
    "with open('input.txt', 'r', encoding='utf-8') as f:\n",
    "    text = f.read()"
   ]
  },
  {
   "cell_type": "code",
   "execution_count": 8,
   "metadata": {},
   "outputs": [
    {
     "name": "stdout",
     "output_type": "stream",
     "text": [
      "1115393\n",
      "First Citizen:\n",
      "Before we proceed any further, hear me speak.\n",
      "\n",
      "All:\n",
      "Speak, speak.\n",
      "\n",
      "First Citizen:\n",
      "You\n"
     ]
    }
   ],
   "source": [
    "print(len(text))\n",
    "print(text[:100])"
   ]
  },
  {
   "cell_type": "markdown",
   "metadata": {},
   "source": [
    "## 2. Tokenization, train/val split"
   ]
  },
  {
   "cell_type": "code",
   "execution_count": 9,
   "metadata": {},
   "outputs": [
    {
     "name": "stdout",
     "output_type": "stream",
     "text": [
      "65 \n",
      " !$&',-.3:;?ABCDEFGHIJKLMNOPQRSTUVWXYZabcdefghijklmnopqrstuvwxyz\n"
     ]
    }
   ],
   "source": [
    "# create all chars (as vocabulary/token)\n",
    "chars = sorted(list(set(text)))\n",
    "vocab_size = len(chars)\n",
    "print(vocab_size, ''.join(chars))"
   ]
  },
  {
   "cell_type": "code",
   "execution_count": 10,
   "metadata": {},
   "outputs": [
    {
     "name": "stdout",
     "output_type": "stream",
     "text": [
      "[46, 43, 50, 50, 53, 1, 58, 46, 43, 56, 43]\n",
      "hello there\n"
     ]
    }
   ],
   "source": [
    "# lookup table\n",
    "stoi = { ch:i for i,ch in enumerate(chars) }\n",
    "itos = { i:ch for i,ch in enumerate(chars) }\n",
    "# simple tokenizer\n",
    "encode = lambda s: [stoi[c] for c in s]\n",
    "decode = lambda l: ''.join([itos[i] for i in l])\n",
    "\n",
    "tokenized = encode('hello there')\n",
    "print(tokenized)\n",
    "print(decode(tokenized))"
   ]
  },
  {
   "cell_type": "code",
   "execution_count": 11,
   "metadata": {},
   "outputs": [
    {
     "name": "stdout",
     "output_type": "stream",
     "text": [
      "torch.Size([1115393]) torch.int64\n",
      "tensor([18, 47, 56, 57, 58,  1, 15, 47, 58, 47, 64, 43, 52, 10,  0, 14, 43, 44,\n",
      "        53, 56, 43,  1, 61, 43,  1, 54, 56, 53, 41, 43, 43, 42,  1, 39, 52, 63,\n",
      "         1, 44, 59, 56, 58, 46, 43, 56,  6,  1, 46, 43, 39, 56,  1, 51, 43,  1,\n",
      "        57, 54, 43, 39, 49,  8,  0,  0, 13, 50, 50, 10,  0, 31, 54, 43, 39, 49,\n",
      "         6,  1, 57, 54, 43, 39, 49,  8,  0,  0, 18, 47, 56, 57, 58,  1, 15, 47,\n",
      "        58, 47, 64, 43, 52, 10,  0, 37, 53, 59])\n"
     ]
    }
   ],
   "source": [
    "# load all the tokenized dataset into tensor\n",
    "data = torch.tensor(encode(text), dtype=torch.long) # todo use gpu?\n",
    "print(data.shape, data.dtype)\n",
    "print(data[:100])"
   ]
  },
  {
   "cell_type": "code",
   "execution_count": 12,
   "metadata": {},
   "outputs": [],
   "source": [
    "# train/val split\n",
    "n = int(0.9*len(data))\n",
    "train_data = data[:n]\n",
    "val_data = data[n:]"
   ]
  },
  {
   "cell_type": "markdown",
   "metadata": {},
   "source": [
    "## 3. Data loader"
   ]
  },
  {
   "cell_type": "code",
   "execution_count": 13,
   "metadata": {},
   "outputs": [],
   "source": [
    "context_length: int = 8"
   ]
  },
  {
   "cell_type": "code",
   "execution_count": 14,
   "metadata": {},
   "outputs": [
    {
     "name": "stdout",
     "output_type": "stream",
     "text": [
      "tensor([18]) : tensor(47)\n",
      "tensor([18, 47]) : tensor(56)\n",
      "tensor([18, 47, 56]) : tensor(57)\n",
      "tensor([18, 47, 56, 57]) : tensor(58)\n",
      "tensor([18, 47, 56, 57, 58]) : tensor(1)\n",
      "tensor([18, 47, 56, 57, 58,  1]) : tensor(15)\n",
      "tensor([18, 47, 56, 57, 58,  1, 15]) : tensor(47)\n",
      "tensor([18, 47, 56, 57, 58,  1, 15, 47]) : tensor(58)\n"
     ]
    }
   ],
   "source": [
    "x = train_data[:context_length]\n",
    "y = train_data[1:context_length+1]\n",
    "for t in range(context_length): # time dimension\n",
    "    context = x[:t+1]\n",
    "    target = y[t]\n",
    "    print(context, ':', target)\n"
   ]
  },
  {
   "cell_type": "code",
   "execution_count": 15,
   "metadata": {},
   "outputs": [
    {
     "name": "stdout",
     "output_type": "stream",
     "text": [
      "inputs: tensor([[54, 43, 39, 49,  1, 39, 45, 39],\n",
      "        [43, 56, 57, 11,  1, 61, 46, 53],\n",
      "        [43,  1, 46, 39, 58, 46,  1, 58],\n",
      "        [43,  1, 47, 57,  1, 57, 53,  1]], device='cuda:0')\n",
      "targets: tensor([[43, 39, 49,  1, 39, 45, 39, 47],\n",
      "        [56, 57, 11,  1, 61, 46, 53,  6],\n",
      "        [ 1, 46, 39, 58, 46,  1, 58, 56],\n",
      "        [ 1, 47, 57,  1, 57, 53,  1, 50]], device='cuda:0')\n"
     ]
    }
   ],
   "source": [
    "\n",
    "torch.manual_seed(42)\n",
    "def get_batch(split: str, batch_size: int = 4) -> tuple[torch.Tensor, torch.Tensor]:\n",
    "    data = train_data if split == 'train' else val_data\n",
    "    ix = torch.randint(len(data) - context_length, (batch_size,))\n",
    "    x: torch.Tensor = torch.stack([data[i:i+context_length] for i in ix])\n",
    "    y: torch.Tensor = torch.stack([data[i+1:i+context_length+1] for i in ix])\n",
    "    return x.to(device), y.to(device)\n",
    "\n",
    "xb, yb = get_batch('train')\n",
    "print('inputs:', xb)\n",
    "print('targets:', yb)"
   ]
  },
  {
   "cell_type": "markdown",
   "metadata": {},
   "source": [
    "## 4. Simplest Baseline (BigramLanguageModel)"
   ]
  },
  {
   "cell_type": "code",
   "execution_count": 16,
   "metadata": {},
   "outputs": [
    {
     "name": "stdout",
     "output_type": "stream",
     "text": [
      "torch.Size([32, 65])\n",
      "tensor(4.7187, device='cuda:0', grad_fn=<NllLossBackward0>)\n"
     ]
    }
   ],
   "source": [
    "from typing import Optional\n",
    "\n",
    "import torch.nn as nn\n",
    "from torch.nn import functional as F\n",
    "torch.manual_seed(42)\n",
    "\n",
    "class BigramLanguageModel(nn.Module):\n",
    "    def __init__(self, vocab_size: int):\n",
    "        super().__init__()\n",
    "        # each token directly reads off the logits for the next token from a lookup table\n",
    "        self.token_embedding_table: nn.Embedding = nn.Embedding(vocab_size, vocab_size)\n",
    "    \n",
    "    def forward(self, idx: torch.Tensor, targets: Optional[torch.Tensor] = None) -> tuple[torch.Tensor, Optional[torch.Tensor]]:\n",
    "        # idx and targets are both (B,T)\n",
    "        logits = self.token_embedding_table(idx) # (B,T,C), C -> vocab_size\n",
    "\n",
    "        # loss function using negative log likelihood loss\n",
    "        loss = None\n",
    "        if targets is not None:\n",
    "            B, T, C = logits.shape\n",
    "            logits = logits.view(B*T, C)\n",
    "            targets = targets.view(B*T)\n",
    "            loss = F.cross_entropy(logits, targets)\n",
    "\n",
    "        return logits, loss\n",
    "\n",
    "    def generate(self, idx: torch.Tensor, max_new_tokens: int):\n",
    "        # idx is (B,T) array of indices in the current context\n",
    "        for _ in range(max_new_tokens):\n",
    "            # get the predictions\n",
    "            logits, loss = self(idx)\n",
    "            # focus only on the last time step (get the last column only in the T dimension)\n",
    "            logits = logits[:, -1, :]   # becomes (B, C)\n",
    "            # apply softmax to get probabilities\n",
    "            probs = F.softmax(logits, dim=-1)   # get the probabilities of C dimension (last dimension)\n",
    "            # sample from the distribution using probabilities\n",
    "            idx_next = torch.multinomial(probs, num_samples=1)  # will give us (B, 1)\n",
    "            # append the sampled idx (the predicted) to the running sequence\n",
    "            idx = torch.cat((idx, idx_next), dim=1) # (B, T+1)\n",
    "        return idx\n",
    "    \n",
    "m = BigramLanguageModel(vocab_size=vocab_size).to(device)\n",
    "out, loss = m(xb, yb)\n",
    "print(out.shape)\n",
    "print(loss)"
   ]
  },
  {
   "cell_type": "code",
   "execution_count": 17,
   "metadata": {},
   "outputs": [
    {
     "name": "stdout",
     "output_type": "stream",
     "text": [
      "\n",
      "J\n",
      "3u :Y3RJtbzDP'VFTwPGt'uY3UWdXR3LnqTCU,XptxcGY,uOhjZPImXEP-MAS-xKpGpOwisCbMI;IT3sDqrgZPptbAstPJ.WGI\n"
     ]
    }
   ],
   "source": [
    "idx = torch.zeros((1, 1), dtype=torch.long).to(device) # 0 is 'newline' character in our vocab\n",
    "logits = m.generate(idx, max_new_tokens=100)[0].tolist()\n",
    "decoded_logits = decode(logits)\n",
    "print(decoded_logits)"
   ]
  },
  {
   "cell_type": "code",
   "execution_count": 18,
   "metadata": {},
   "outputs": [],
   "source": [
    "# create optimizer\n",
    "optimizer = torch.optim.AdamW(m.parameters(), lr=1e-3)"
   ]
  },
  {
   "cell_type": "code",
   "execution_count": 19,
   "metadata": {},
   "outputs": [],
   "source": [
    "@torch.no_grad()\n",
    "def estimate_loss(model, eval_iters: int, batch_size: int):\n",
    "    out = {}\n",
    "    model.eval()    # toggle the model to evaluation mode\n",
    "    for split in ['train', 'val']:\n",
    "        losses = torch.zeros(eval_iters)\n",
    "        for k in range(eval_iters):\n",
    "            X, Y = get_batch(split, batch_size)\n",
    "            _, loss = model(X, Y)\n",
    "            losses[k] = loss.item()\n",
    "        out[split] = losses.mean()\n",
    "    model.train()   # toggle back to train mode\n",
    "    return out"
   ]
  },
  {
   "cell_type": "markdown",
   "metadata": {},
   "source": [
    "### Training"
   ]
  },
  {
   "cell_type": "code",
   "execution_count": 20,
   "metadata": {},
   "outputs": [
    {
     "name": "stdout",
     "output_type": "stream",
     "text": [
      "steps 0: train loss 4.7541, val loss 4.7638\n",
      "steps 200: train loss 4.5256, val loss 4.5448\n",
      "steps 400: train loss 4.3208, val loss 4.3268\n",
      "steps 600: train loss 4.1198, val loss 4.1347\n",
      "steps 800: train loss 3.9395, val loss 3.9609\n",
      "steps 1000: train loss 3.7779, val loss 3.7918\n",
      "steps 1200: train loss 3.6295, val loss 3.6567\n",
      "steps 1400: train loss 3.5034, val loss 3.5116\n",
      "steps 1600: train loss 3.3740, val loss 3.3992\n",
      "steps 1800: train loss 3.2639, val loss 3.3004\n",
      "steps 2000: train loss 3.1722, val loss 3.1999\n",
      "steps 2200: train loss 3.0830, val loss 3.1078\n",
      "steps 2400: train loss 3.0042, val loss 3.0224\n",
      "steps 2600: train loss 2.9456, val loss 2.9669\n",
      "steps 2800: train loss 2.8803, val loss 2.9065\n",
      "steps 3000: train loss 2.8231, val loss 2.8584\n",
      "steps 3200: train loss 2.7766, val loss 2.8009\n",
      "steps 3400: train loss 2.7383, val loss 2.7610\n",
      "steps 3600: train loss 2.7092, val loss 2.7233\n",
      "steps 3800: train loss 2.6734, val loss 2.6993\n",
      "steps 4000: train loss 2.6504, val loss 2.6746\n",
      "steps 4200: train loss 2.6272, val loss 2.6516\n",
      "steps 4400: train loss 2.6040, val loss 2.6326\n",
      "steps 4600: train loss 2.5864, val loss 2.6090\n",
      "steps 4800: train loss 2.5776, val loss 2.5957\n"
     ]
    }
   ],
   "source": [
    "batch_size = 32\n",
    "epoch_size = 5000\n",
    "eval_interval = 200\n",
    "eval_iters = 200\n",
    "for step in range(epoch_size):\n",
    "    # every once in a while, evaluate the loss on train and val sets\n",
    "    if step % eval_interval == 0:\n",
    "        losses = estimate_loss(m, eval_iters, batch_size)\n",
    "        print(f\"steps {step}: train loss {losses['train']:.4f}, val loss {losses['val']:.4f}\")\n",
    "\n",
    "    # sample a batch from the train data\n",
    "    xb, yb = get_batch('train', batch_size)\n",
    "\n",
    "    # evaluate the loss\n",
    "    logits, loss = m(xb, yb)\n",
    "    optimizer.zero_grad(set_to_none=True)   # reset the gradient from the previous step (if any)\n",
    "    loss.backward() # using the gradient from all the parameters\n",
    "    optimizer.step()    # using gradient to update the parameters\n"
   ]
  },
  {
   "cell_type": "code",
   "execution_count": 21,
   "metadata": {},
   "outputs": [
    {
     "name": "stdout",
     "output_type": "stream",
     "text": [
      "\n",
      "coit;inde e\n",
      "WR:\n",
      "PEngemangEENigesps\n",
      "b&hind.\n",
      "UCENGF url hathapr me m:chan fHe.\n",
      "Fju d iere-ve'durore cense wn ce m3Haroqus t avest t, metha'? m; hy?\n",
      "\n",
      "\n",
      "\n",
      "INSThyourBRGLONG;f ind s hevalshe, ENVzers ndowe:\n",
      "LUSGo be'sblore ,\n",
      "TZTd phSe\n",
      "pefoue t he ososour talunHI'llbr!g y HoJP:\n",
      " tNEOMan te s mire akns t\n",
      "Tou'esa amnfod bs as Y w:\n",
      "Ked DUMIasMTVQ on myoferisthatessotrilorule, maripake 'seUCKIOW, gZdut wntide.\n",
      "AS:\n",
      "GSorud ve y ube I thellu f:\n",
      "DWARxDZHayshapy d tr ,\n",
      "Sthong-mar;UPYndd:\n",
      "AVar;.\n",
      "PrUCave SLyorves,\n",
      "\n"
     ]
    }
   ],
   "source": [
    "idx = torch.zeros((1, 1), dtype=torch.long).to(device) # 0 is 'newline' character in our vocab\n",
    "logits = m.generate(idx, max_new_tokens=500)[0].tolist()\n",
    "decoded_logits = decode(logits)\n",
    "print(decoded_logits)"
   ]
  },
  {
   "cell_type": "code",
   "execution_count": null,
   "metadata": {},
   "outputs": [
    {
     "data": {
      "text/plain": [
       "tensor([[[ 1.9269,  1.4873],\n",
       "         [ 1.4138, -0.3091],\n",
       "         [ 1.1687, -0.6176],\n",
       "         [ 0.8657, -0.8644],\n",
       "         [ 0.5422, -0.3617],\n",
       "         [ 0.3864, -0.5354],\n",
       "         [ 0.2272, -0.5388],\n",
       "         [ 0.1027, -0.3762]],\n",
       "\n",
       "        [[ 1.6423, -0.1596],\n",
       "         [ 0.5725,  0.1400],\n",
       "         [ 0.1289,  0.4528],\n",
       "         [ 0.2969,  0.7597],\n",
       "         [ 0.4933,  0.8671],\n",
       "         [ 0.5129,  0.9450],\n",
       "         [ 0.4065,  0.8160],\n",
       "         [ 0.3242,  0.8215]],\n",
       "\n",
       "        [[-1.3847, -0.8712],\n",
       "         [-0.8040,  0.4231],\n",
       "         [-0.4297,  0.1405],\n",
       "         [-0.2459, -0.0882],\n",
       "         [-0.5082,  0.1285],\n",
       "         [-0.5701,  0.0069],\n",
       "         [-0.6707,  0.3092],\n",
       "         [-0.7412,  0.2095]],\n",
       "\n",
       "        [[-0.9138, -0.6581],\n",
       "         [-0.4179, -0.0662],\n",
       "         [-0.4413,  0.3530],\n",
       "         [-0.5344,  0.0808],\n",
       "         [-0.7082,  0.0718],\n",
       "         [-0.6008,  0.1724],\n",
       "         [-0.5289,  0.4113],\n",
       "         [-0.6109,  0.5329]]])"
      ]
     },
     "execution_count": 69,
     "metadata": {},
     "output_type": "execute_result"
    }
   ],
   "source": [
    "### dummy self-attention (using bag of words, means of prev tokens + current token) instead of actual self-attenton mechanism\n",
    "torch.manual_seed(42)\n",
    "B,T,C = 4, 8, 2 # batch, time, channels\n",
    "x = torch.randn((B, T, C))\n",
    "\n",
    "# version 1\n",
    "# xbow = torch.zeros((B, T, C))\n",
    "# for b in range(B):\n",
    "#     for t in range(T):\n",
    "#         xprev = x[b, :t+1]\n",
    "#         xbow[b, t] = torch.mean(xprev, dim=0)\n",
    "# xbow\n",
    "\n",
    "# version 2 (using triangular matrices trick)\n",
    "# wei = torch.tril(torch.ones((T, T)))\n",
    "# wei = wei / torch.sum(wei, dim=1, keepdim=True)\n",
    "# xbow = wei @ x  # (T, T) @ (B, T, C) --> (B, T, T) @ (B, T, C) = (B, T, C)\n",
    "# xbow\n",
    "\n",
    "# version 3 (using masked fill with softmax trick)\n",
    "tril = torch.tril(torch.ones((T, T)))\n",
    "wei = torch.zeros((T, T))\n",
    "wei = wei.masked_fill(tril == 0, float('-inf'))\n",
    "wei = F.softmax(wei, dim=-1)    # for last dimension\n",
    "xbow = wei @ x\n",
    "xbow"
   ]
  }
 ],
 "metadata": {
  "kernelspec": {
   "display_name": "venv",
   "language": "python",
   "name": "python3"
  },
  "language_info": {
   "codemirror_mode": {
    "name": "ipython",
    "version": 3
   },
   "file_extension": ".py",
   "mimetype": "text/x-python",
   "name": "python",
   "nbconvert_exporter": "python",
   "pygments_lexer": "ipython3",
   "version": "3.12.3"
  }
 },
 "nbformat": 4,
 "nbformat_minor": 2
}
